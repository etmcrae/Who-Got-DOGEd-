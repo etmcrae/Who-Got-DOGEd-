{
  "nbformat": 4,
  "nbformat_minor": 0,
  "metadata": {
    "colab": {
      "provenance": [],
      "gpuType": "T4",
      "authorship_tag": "ABX9TyOKh3An9NVVa2DxxsfAGXti",
      "include_colab_link": true
    },
    "kernelspec": {
      "name": "python3",
      "display_name": "Python 3"
    },
    "language_info": {
      "name": "python"
    }
  },
  "cells": [
    {
      "cell_type": "markdown",
      "metadata": {
        "id": "view-in-github",
        "colab_type": "text"
      },
      "source": [
        "<a href=\"https://colab.research.google.com/github/etmcrae/Who-Got-DOGEd-/blob/main/Random_Forest.ipynb\" target=\"_parent\"><img src=\"https://colab.research.google.com/assets/colab-badge.svg\" alt=\"Open In Colab\"/></a>"
      ]
    },
    {
      "cell_type": "code",
      "execution_count": 1,
      "metadata": {
        "id": "xCwZ9Kn1naT-"
      },
      "outputs": [],
      "source": [
        "import numpy as np\n",
        "import pandas as pd\n",
        "import matplotlib.pyplot as plt\n",
        "from sklearn.model_selection import train_test_split\n",
        "from sklearn import datasets\n",
        "from sklearn.tree import DecisionTreeRegressor\n",
        "from sklearn.ensemble import RandomForestRegressor\n",
        "from sklearn.metrics import mean_squared_error\n",
        "from sklearn import metrics\n",
        "import pickle"
      ]
    },
    {
      "cell_type": "code",
      "source": [
        "from google.colab import drive\n",
        "drive.mount('/content/drive')\n",
        "file_path = ('/content/drive/MyDrive/DOGE/df_boost.csv')\n",
        "df = pd.read_csv(file_path)\n",
        "print(\"File loaded successfully!\")\n",
        "print(df.head())"
      ],
      "metadata": {
        "colab": {
          "base_uri": "https://localhost:8080/"
        },
        "id": "jcI5BtqKnwbZ",
        "outputId": "660fbeea-d96a-44be-9a8c-1053843c16ce"
      },
      "execution_count": 2,
      "outputs": [
        {
          "output_type": "stream",
          "name": "stdout",
          "text": [
            "Mounted at /content/drive\n",
            "File loaded successfully!\n",
            "   award_id_piid  total_dollars_obligated  awarding_agency_name  \\\n",
            "0            0.0                      0.0                   0.0   \n",
            "1            0.0                      0.0                   0.0   \n",
            "2            0.0                      0.0                   0.0   \n",
            "3            0.0                      0.0                   0.0   \n",
            "4            0.0                      0.0                   0.0   \n",
            "\n",
            "   funding_agency_name  foreign_funding  recipient_name  \\\n",
            "0                  0.0              0.0             0.0   \n",
            "1                  0.0              0.0             0.0   \n",
            "2                  0.0              0.0             0.0   \n",
            "3                  0.0              0.0             0.0   \n",
            "4                  0.0              0.0             0.0   \n",
            "\n",
            "   recipient_country_name  recipient_address_line_1  recipient_city_name  \\\n",
            "0                     0.0                       0.0                  0.0   \n",
            "1                     0.0                       0.0                  0.0   \n",
            "2                     0.0                       0.0                  0.0   \n",
            "3                     0.0                       0.0                  0.0   \n",
            "4                     0.0                       0.0                  0.0   \n",
            "\n",
            "   recipient_county_name  ...  small_disadvantaged_business  \\\n",
            "0                    0.0  ...                             0   \n",
            "1                    0.0  ...                             0   \n",
            "2                    0.0  ...                             0   \n",
            "3                    0.0  ...                             0   \n",
            "4                    0.0  ...                             0   \n",
            "\n",
            "   c8a_program_participant  \\\n",
            "0                        0   \n",
            "1                        0   \n",
            "2                        0   \n",
            "3                        0   \n",
            "4                        0   \n",
            "\n",
            "   historically_underutilized_business_zone_hubzone_firm  \\\n",
            "0                                                  0       \n",
            "1                                                  0       \n",
            "2                                                  0       \n",
            "3                                                  0       \n",
            "4                                                  0       \n",
            "\n",
            "   sba_certified_8a_joint_venture  piid  savings  DOGE_Flag  State  Party  \\\n",
            "0                               0   0.0      0.0          0    0.0    0.0   \n",
            "1                               0   0.0      0.0          0    0.0    0.0   \n",
            "2                               0   0.0      0.0          0    0.0    0.0   \n",
            "3                               0   0.0      0.0          0    0.0    0.0   \n",
            "4                               0   0.0      0.0          0    0.0    0.0   \n",
            "\n",
            "   Red State  \n",
            "0          1  \n",
            "1          0  \n",
            "2          1  \n",
            "3          1  \n",
            "4          1  \n",
            "\n",
            "[5 rows x 114 columns]\n"
          ]
        }
      ]
    },
    {
      "cell_type": "code",
      "source": [
        "X = df.drop('DOGE_Flag', axis = 1)\n",
        "y = df['DOGE_Flag']"
      ],
      "metadata": {
        "id": "jhB0h4ZzoKpp"
      },
      "execution_count": 4,
      "outputs": []
    },
    {
      "cell_type": "code",
      "source": [
        "# two parameters - n_estimators (number of trees), max_depth (number of splits)\n",
        "# two parameters - n_estimators (number of trees), max_depth (number of splits)\n",
        "numLoops = 500\n",
        "\n",
        "mean_error = np.zeros(numLoops)\n",
        "\n",
        "# np.random.seed(42)\n",
        "for idx in range(0,numLoops):\n",
        "  X_train, X_test, y_train, y_test = train_test_split( X, y, test_size = 0.2 )\n",
        "  model = RandomForestRegressor( n_estimators = 10 ) #n_estimators is number of trees in forest. Note: you can also choose max_depth for RFs\n",
        "  model.fit( X_train, y_train )\n",
        "  y_pred = model.predict( X_test )\n",
        "  mean_error[idx] = mean_squared_error( y_test, y_pred )\n",
        "\n",
        "print(f'RMSE: {np.sqrt(mean_error).mean()*1000}')\n",
        "print(f'RMSE_std: {np.sqrt(mean_error).std()*1000}')\n",
        "np.sqrt(mean_error)[:50]"
      ],
      "metadata": {
        "id": "rHeXC3ZVoNO7"
      },
      "execution_count": null,
      "outputs": []
    },
    {
      "cell_type": "code",
      "source": [
        "num_trees = range(10,60,10)\n",
        "cv_loops = 100\n",
        "rmse_results = np.zeros(len(num_trees))\n",
        "std_results = np.zeros(len(num_trees))\n",
        "\n",
        "for n, trees in enumerate(num_trees):\n",
        "  rmse_cv = np.zeros(cv_loops)\n",
        "  np.random.seed(42)\n",
        "  for i in range(cv_loops):\n",
        "    X_train, X_test, y_train, y_test = train_test_split(X,y,test_size=0.20)\n",
        "    rfModel = RandomForestRegressor( n_estimators=trees )\n",
        "    rfModel.fit(X_train, y_train)\n",
        "    y_pred_rf = rfModel.predict(X_test)\n",
        "    rmse_cv[i] = np.sqrt(mean_squared_error(y_test, y_pred_rf))\n",
        "\n",
        "  print(trees,' trees finished.')\n",
        "  rmse_results[n] = rmse_cv.mean()\n",
        "  std_results[n] = rmse_cv.std()"
      ],
      "metadata": {
        "colab": {
          "base_uri": "https://localhost:8080/",
          "height": 211
        },
        "id": "GjkLJrA0ob9B",
        "outputId": "d97fb840-3b9f-49b7-a632-b658a0db91b1"
      },
      "execution_count": 1,
      "outputs": [
        {
          "output_type": "error",
          "ename": "NameError",
          "evalue": "name 'np' is not defined",
          "traceback": [
            "\u001b[0;31m---------------------------------------------------------------------------\u001b[0m",
            "\u001b[0;31mNameError\u001b[0m                                 Traceback (most recent call last)",
            "\u001b[0;32m/tmp/ipython-input-1-4186461475.py\u001b[0m in \u001b[0;36m<cell line: 0>\u001b[0;34m()\u001b[0m\n\u001b[1;32m      1\u001b[0m \u001b[0mnum_trees\u001b[0m \u001b[0;34m=\u001b[0m \u001b[0mrange\u001b[0m\u001b[0;34m(\u001b[0m\u001b[0;36m10\u001b[0m\u001b[0;34m,\u001b[0m\u001b[0;36m60\u001b[0m\u001b[0;34m,\u001b[0m\u001b[0;36m10\u001b[0m\u001b[0;34m)\u001b[0m\u001b[0;34m\u001b[0m\u001b[0;34m\u001b[0m\u001b[0m\n\u001b[1;32m      2\u001b[0m \u001b[0mcv_loops\u001b[0m \u001b[0;34m=\u001b[0m \u001b[0;36m100\u001b[0m\u001b[0;34m\u001b[0m\u001b[0;34m\u001b[0m\u001b[0m\n\u001b[0;32m----> 3\u001b[0;31m \u001b[0mrmse_results\u001b[0m \u001b[0;34m=\u001b[0m \u001b[0mnp\u001b[0m\u001b[0;34m.\u001b[0m\u001b[0mzeros\u001b[0m\u001b[0;34m(\u001b[0m\u001b[0mlen\u001b[0m\u001b[0;34m(\u001b[0m\u001b[0mnum_trees\u001b[0m\u001b[0;34m)\u001b[0m\u001b[0;34m)\u001b[0m\u001b[0;34m\u001b[0m\u001b[0;34m\u001b[0m\u001b[0m\n\u001b[0m\u001b[1;32m      4\u001b[0m \u001b[0mstd_results\u001b[0m \u001b[0;34m=\u001b[0m \u001b[0mnp\u001b[0m\u001b[0;34m.\u001b[0m\u001b[0mzeros\u001b[0m\u001b[0;34m(\u001b[0m\u001b[0mlen\u001b[0m\u001b[0;34m(\u001b[0m\u001b[0mnum_trees\u001b[0m\u001b[0;34m)\u001b[0m\u001b[0;34m)\u001b[0m\u001b[0;34m\u001b[0m\u001b[0;34m\u001b[0m\u001b[0m\n\u001b[1;32m      5\u001b[0m \u001b[0;34m\u001b[0m\u001b[0m\n",
            "\u001b[0;31mNameError\u001b[0m: name 'np' is not defined"
          ]
        }
      ]
    },
    {
      "cell_type": "code",
      "source": [
        "pickle.dump(rfModel, open('rfModel.p','wb'))"
      ],
      "metadata": {
        "id": "O5JQYf_Goehc"
      },
      "execution_count": null,
      "outputs": []
    },
    {
      "cell_type": "code",
      "source": [
        "plt.plot(num_trees, rmse_results)\n",
        "plt.xlabel('Tree No.')\n",
        "plt.ylabel('RMSE')\n",
        "plt.grid()\n"
      ],
      "metadata": {
        "id": "ZHYS4hL-ohMs"
      },
      "execution_count": null,
      "outputs": []
    },
    {
      "cell_type": "code",
      "source": [
        "pd.DataFrame( zip( rmse_results, std_results, ) )"
      ],
      "metadata": {
        "id": "dPdTrV00ohlI"
      },
      "execution_count": null,
      "outputs": []
    },
    {
      "cell_type": "code",
      "source": [
        "# plt.errorbar(num_trees, rmse_results, yerr=(std_results*2,std_results*2))\n",
        "plt.errorbar(num_trees, rmse_results, yerr=std_results)\n",
        "plt.xlabel('Tree No.')\n",
        "plt.ylabel('RMSE')\n",
        "plt.ylim(0,5)\n",
        "plt.xlim(0,55)\n",
        "plt.grid()"
      ],
      "metadata": {
        "id": "ZIGeFKrqojDC"
      },
      "execution_count": null,
      "outputs": []
    },
    {
      "cell_type": "code",
      "source": [
        "print(f'RMSE with 30 trees: {rmse_results[2]*1000}')"
      ],
      "metadata": {
        "id": "AjYBr5uvold5"
      },
      "execution_count": null,
      "outputs": []
    },
    {
      "cell_type": "code",
      "source": [
        "import graphviz\n",
        "from IPython.display import display\n",
        "from sklearn import tree"
      ],
      "metadata": {
        "id": "-sILBa2EonPC"
      },
      "execution_count": null,
      "outputs": []
    },
    {
      "cell_type": "code",
      "source": [
        "len(rfModel.estimators_)"
      ],
      "metadata": {
        "id": "XWDIBVOKonlB"
      },
      "execution_count": null,
      "outputs": []
    },
    {
      "cell_type": "code",
      "source": [
        "# Display one tree from the random forest\n",
        "display(\n",
        "  graphviz.Source(\n",
        "    tree.export_graphviz(\n",
        "      rfModel.estimators_[0],\n",
        "      feature_names = X.columns,\n",
        "    )\n",
        "  )\n",
        ")\n"
      ],
      "metadata": {
        "id": "essFd2gLoov4"
      },
      "execution_count": null,
      "outputs": []
    },
    {
      "cell_type": "code",
      "source": [
        "#finds important predictors\n",
        "importances = rfModel.feature_importances_\n",
        "forest_importances = pd.Series( importances, index = X.columns )\n",
        "\n",
        "plt.figure()\n",
        "# forest_importances.plot.bar()\n",
        "forest_importances.sort_values( ascending = False ).plot.bar()\n",
        "plt.title(\"Feature importances\")\n",
        "plt.ylabel('Feature Importance Score') ;"
      ],
      "metadata": {
        "id": "WizJtAwYorei"
      },
      "execution_count": null,
      "outputs": []
    },
    {
      "cell_type": "code",
      "source": [
        "( forest_importances.sort_values( ascending = False ) * 100 ).cumsum()"
      ],
      "metadata": {
        "id": "-b8zN1D6ow8B"
      },
      "execution_count": null,
      "outputs": []
    }
  ]
}